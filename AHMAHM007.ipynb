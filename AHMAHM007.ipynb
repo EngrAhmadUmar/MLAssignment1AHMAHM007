{
 "cells": [
  {
   "cell_type": "code",
   "execution_count": 1,
   "id": "e1855a69-2de3-4703-b6ef-5f40543cd444",
   "metadata": {},
   "outputs": [],
   "source": [
    "#Importing key dependencies\n",
    "import torch\n",
    "import torch.nn as nn\n",
    "import torch.optim as optim\n",
    "import torch.nn.functional as F\n",
    "from torchvision import datasets, transforms\n",
    "from PIL import Image\n",
    "import os\n",
    "\n"
   ]
  },
  {
   "cell_type": "code",
   "execution_count": 2,
   "id": "2ec49f6b-fef6-4e28-8d3b-6b6a826668e2",
   "metadata": {},
   "outputs": [],
   "source": [
    "# Constants\n",
    "DATA_DIR = './data'\n",
    "download_dataset = False\n",
    "\n",
    "# Define transformations for preprocessing\n",
    "transform = transforms.Compose([\n",
    "    transforms.ToTensor(),  # Convert image to tensor\n",
    "    transforms.Normalize((0.5,), (0.5,))  # Normalize pixel values\n",
    "])\n",
    "\n",
    "# Load MNIST training and test datasets with transformations\n",
    "train_mnist = datasets.MNIST(DATA_DIR, train=True, download=download_dataset, transform=transform)\n",
    "test_mnist = datasets.MNIST(DATA_DIR, train=False, download=download_dataset, transform=transform)\n",
    "\n",
    "# Define data loaders\n",
    "batch_size = 64\n",
    "train_loader = torch.utils.data.DataLoader(train_mnist, batch_size=batch_size, shuffle=True)\n",
    "test_loader = torch.utils.data.DataLoader(test_mnist, batch_size=batch_size, shuffle=False)\n"
   ]
  },
  {
   "cell_type": "code",
   "execution_count": null,
   "id": "1e96561f-4b1d-4e71-aec5-48f12437fde8",
   "metadata": {},
   "outputs": [],
   "source": []
  }
 ],
 "metadata": {
  "kernelspec": {
   "display_name": "Python 3 (ipykernel)",
   "language": "python",
   "name": "python3"
  },
  "language_info": {
   "codemirror_mode": {
    "name": "ipython",
    "version": 3
   },
   "file_extension": ".py",
   "mimetype": "text/x-python",
   "name": "python",
   "nbconvert_exporter": "python",
   "pygments_lexer": "ipython3",
   "version": "3.11.7"
  }
 },
 "nbformat": 4,
 "nbformat_minor": 5
}
